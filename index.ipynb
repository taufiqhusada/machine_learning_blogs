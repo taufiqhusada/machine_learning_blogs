{
  "cells": [
    {
      "cell_type": "raw",
      "metadata": {},
      "source": [
        "---\n",
        "title: \"Machine Learning Blogs\"\n",
        "---"
      ]
    },
    {
      "cell_type": "markdown",
      "metadata": {},
      "source": [
        "- Author: Taufiq Husada Daryanto\n",
        "- Course: Machine Learning CS 5805 \n",
        "\n",
        "<h2> List of blogs: </h2>\n",
        "1. [Probability theory and random variables](1_probability/index.qmd): Exploring some types of random variable and uses some probability theory techiniques (naive bayes) to do some prediction\n",
        "2. [Clustering](2_clustering/index.qmd): Clustering consumer based on consumer income and spending\n",
        "3. [Linear and nonlinear regression](3_regression/index.qmd): Regression to predict car price\n",
        "4. [Classification](4_classification/index.qmd): End-to-end machine learning projects using classification algorithm on titanic dataset\n",
        "5. [Anomaly/outlier detection](5_outlier/index.qmd): Detect outlier in insurance charge prediction dataset then do some data cleaning and train regression model to predict insurance charges\n"
      ]
    }
  ],
  "metadata": {
    "kernelspec": {
      "name": "python3",
      "language": "python",
      "display_name": "Python 3 (ipykernel)"
    }
  },
  "nbformat": 4,
  "nbformat_minor": 4
}